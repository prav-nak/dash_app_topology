{
 "cells": [
  {
   "cell_type": "code",
   "execution_count": 2,
   "metadata": {
    "ExecuteTime": {
     "end_time": "2021-03-24T17:12:16.251754Z",
     "start_time": "2021-03-24T17:12:05.979203Z"
    }
   },
   "outputs": [],
   "source": [
    "!pip install -q jupyter-dash==0.3.0rc1 dash-bootstrap-components transformers"
   ]
  },
  {
   "cell_type": "code",
   "execution_count": 3,
   "metadata": {
    "ExecuteTime": {
     "end_time": "2021-03-24T17:12:17.838967Z",
     "start_time": "2021-03-24T17:12:17.791185Z"
    }
   },
   "outputs": [
    {
     "name": "stdout",
     "output_type": "stream",
     "text": [
      "Dash app running on http://127.0.0.1:8050/\n",
      "Minimum compliance problem with OC\n",
      "ndes: 100 x 50\n",
      "volfrac: 0.4, rmin: 5.4, penal: 3.0\n",
      "Filter method: Density based\n",
      "new fixed =  [0, 1, 2, 3, 4, 5, 6, 7, 8, 9, 10, 11, 12, 13, 14, 15, 16, 17, 18, 19, 20, 21, 22, 23, 24, 25, 26, 27, 28, 29, 30, 31, 32, 33, 34, 35, 36, 37, 38, 39, 40, 41, 42, 43, 44, 45, 46, 47, 48, 49, 50, 51, 52, 53, 54, 55, 56, 57, 58, 59, 60, 61, 62, 63, 64, 65, 66, 67, 68, 69, 70, 71, 72, 73, 74, 75, 76, 77, 78, 79, 80, 81, 82, 83, 84, 85, 86, 87, 88, 89, 90, 91, 92, 93, 94, 95, 96, 97, 98, 99, 100, 101]\n",
      "PrintFreq =  5\n",
      "it.: 1 , obj.: 435.519 Vol.: 0.400, ch.: 0.200\n",
      "it.: 2 , obj.: 238.996 Vol.: 0.400, ch.: 0.200\n",
      "it.: 3 , obj.: 162.096 Vol.: 0.400, ch.: 0.200\n",
      "it.: 4 , obj.: 122.853 Vol.: 0.400, ch.: 0.200\n",
      "it.: 5 , obj.: 106.090 Vol.: 0.400, ch.: 0.200\n",
      "it.: 6 , obj.: 92.396 Vol.: 0.400, ch.: 0.200\n",
      "it.: 7 , obj.: 82.909 Vol.: 0.400, ch.: 0.200\n",
      "it.: 8 , obj.: 76.514 Vol.: 0.400, ch.: 0.200\n",
      "it.: 9 , obj.: 72.157 Vol.: 0.400, ch.: 0.200\n",
      "it.: 10 , obj.: 69.293 Vol.: 0.400, ch.: 0.200\n",
      "it.: 11 , obj.: 67.263 Vol.: 0.400, ch.: 0.200\n",
      "it.: 12 , obj.: 65.817 Vol.: 0.400, ch.: 0.179\n",
      "it.: 13 , obj.: 64.801 Vol.: 0.400, ch.: 0.200\n",
      "it.: 14 , obj.: 64.067 Vol.: 0.400, ch.: 0.173\n",
      "it.: 15 , obj.: 63.476 Vol.: 0.400, ch.: 0.200\n",
      "it.: 16 , obj.: 63.054 Vol.: 0.400, ch.: 0.170\n",
      "it.: 17 , obj.: 62.718 Vol.: 0.400, ch.: 0.188\n",
      "it.: 18 , obj.: 62.463 Vol.: 0.400, ch.: 0.153\n",
      "it.: 19 , obj.: 62.236 Vol.: 0.400, ch.: 0.142\n",
      "it.: 20 , obj.: 62.057 Vol.: 0.400, ch.: 0.144\n",
      "it.: 21 , obj.: 61.916 Vol.: 0.400, ch.: 0.099\n",
      "it.: 22 , obj.: 61.786 Vol.: 0.400, ch.: 0.093\n",
      "it.: 23 , obj.: 61.682 Vol.: 0.400, ch.: 0.096\n",
      "it.: 24 , obj.: 61.596 Vol.: 0.400, ch.: 0.113\n",
      "it.: 25 , obj.: 61.515 Vol.: 0.400, ch.: 0.129\n",
      "it.: 26 , obj.: 61.451 Vol.: 0.400, ch.: 0.083\n",
      "it.: 27 , obj.: 61.382 Vol.: 0.400, ch.: 0.092\n",
      "it.: 28 , obj.: 61.327 Vol.: 0.400, ch.: 0.101\n",
      "it.: 29 , obj.: 61.285 Vol.: 0.400, ch.: 0.084\n",
      "it.: 30 , obj.: 61.236 Vol.: 0.400, ch.: 0.099\n",
      "it.: 31 , obj.: 61.202 Vol.: 0.400, ch.: 0.116\n",
      "it.: 32 , obj.: 61.172 Vol.: 0.400, ch.: 0.108\n",
      "it.: 33 , obj.: 61.140 Vol.: 0.400, ch.: 0.080\n",
      "it.: 34 , obj.: 61.115 Vol.: 0.400, ch.: 0.093\n",
      "it.: 35 , obj.: 61.093 Vol.: 0.400, ch.: 0.108\n",
      "it.: 36 , obj.: 61.072 Vol.: 0.400, ch.: 0.120\n",
      "it.: 37 , obj.: 61.050 Vol.: 0.400, ch.: 0.071\n",
      "it.: 38 , obj.: 61.039 Vol.: 0.400, ch.: 0.079\n",
      "it.: 39 , obj.: 61.023 Vol.: 0.400, ch.: 0.086\n",
      "it.: 40 , obj.: 61.012 Vol.: 0.400, ch.: 0.069\n",
      "it.: 41 , obj.: 60.998 Vol.: 0.400, ch.: 0.058\n",
      "it.: 42 , obj.: 60.981 Vol.: 0.400, ch.: 0.064\n",
      "it.: 43 , obj.: 60.971 Vol.: 0.400, ch.: 0.070\n",
      "it.: 44 , obj.: 60.961 Vol.: 0.400, ch.: 0.077\n",
      "it.: 45 , obj.: 60.945 Vol.: 0.400, ch.: 0.068\n",
      "it.: 46 , obj.: 60.937 Vol.: 0.400, ch.: 0.044\n",
      "it.: 47 , obj.: 60.930 Vol.: 0.400, ch.: 0.048\n",
      "it.: 48 , obj.: 60.921 Vol.: 0.400, ch.: 0.051\n",
      "it.: 49 , obj.: 60.916 Vol.: 0.400, ch.: 0.056\n",
      "it.: 50 , obj.: 60.905 Vol.: 0.400, ch.: 0.054\n",
      "it.: 51 , obj.: 60.900 Vol.: 0.400, ch.: 0.061\n",
      "it.: 52 , obj.: 60.889 Vol.: 0.400, ch.: 0.069\n",
      "it.: 53 , obj.: 60.881 Vol.: 0.400, ch.: 0.077\n",
      "it.: 54 , obj.: 60.875 Vol.: 0.400, ch.: 0.084\n",
      "it.: 55 , obj.: 60.871 Vol.: 0.400, ch.: 0.093\n",
      "it.: 56 , obj.: 60.862 Vol.: 0.400, ch.: 0.102\n",
      "it.: 57 , obj.: 60.856 Vol.: 0.400, ch.: 0.075\n",
      "it.: 58 , obj.: 60.846 Vol.: 0.400, ch.: 0.083\n",
      "it.: 59 , obj.: 60.840 Vol.: 0.400, ch.: 0.091\n",
      "it.: 60 , obj.: 60.833 Vol.: 0.400, ch.: 0.078\n",
      "it.: 61 , obj.: 60.829 Vol.: 0.400, ch.: 0.045\n",
      "it.: 62 , obj.: 60.824 Vol.: 0.400, ch.: 0.047\n",
      "it.: 63 , obj.: 60.822 Vol.: 0.400, ch.: 0.046\n",
      "it.: 64 , obj.: 60.814 Vol.: 0.400, ch.: 0.049\n",
      "it.: 65 , obj.: 60.810 Vol.: 0.400, ch.: 0.053\n",
      "it.: 66 , obj.: 60.807 Vol.: 0.400, ch.: 0.056\n",
      "it.: 67 , obj.: 60.807 Vol.: 0.400, ch.: 0.062\n",
      "it.: 68 , obj.: 60.799 Vol.: 0.400, ch.: 0.066\n",
      "it.: 69 , obj.: 60.797 Vol.: 0.400, ch.: 0.072\n",
      "it.: 70 , obj.: 60.791 Vol.: 0.400, ch.: 0.078\n",
      "it.: 71 , obj.: 60.788 Vol.: 0.400, ch.: 0.033\n",
      "it.: 72 , obj.: 60.788 Vol.: 0.400, ch.: 0.035\n",
      "it.: 73 , obj.: 60.784 Vol.: 0.400, ch.: 0.036\n",
      "it.: 74 , obj.: 60.781 Vol.: 0.400, ch.: 0.038\n",
      "it.: 75 , obj.: 60.778 Vol.: 0.400, ch.: 0.039\n",
      "it.: 76 , obj.: 60.774 Vol.: 0.400, ch.: 0.041\n",
      "it.: 77 , obj.: 60.771 Vol.: 0.400, ch.: 0.043\n",
      "it.: 78 , obj.: 60.768 Vol.: 0.400, ch.: 0.040\n",
      "it.: 79 , obj.: 60.767 Vol.: 0.400, ch.: 0.033\n",
      "it.: 80 , obj.: 60.764 Vol.: 0.400, ch.: 0.035\n",
      "it.: 81 , obj.: 60.763 Vol.: 0.400, ch.: 0.036\n",
      "it.: 82 , obj.: 60.762 Vol.: 0.400, ch.: 0.039\n",
      "it.: 83 , obj.: 60.757 Vol.: 0.400, ch.: 0.039\n",
      "it.: 84 , obj.: 60.758 Vol.: 0.400, ch.: 0.041\n",
      "it.: 85 , obj.: 60.753 Vol.: 0.400, ch.: 0.043\n",
      "it.: 86 , obj.: 60.750 Vol.: 0.400, ch.: 0.046\n",
      "it.: 87 , obj.: 60.748 Vol.: 0.400, ch.: 0.049\n",
      "it.: 88 , obj.: 60.746 Vol.: 0.400, ch.: 0.053\n",
      "it.: 89 , obj.: 60.746 Vol.: 0.400, ch.: 0.057\n",
      "it.: 90 , obj.: 60.741 Vol.: 0.400, ch.: 0.060\n",
      "it.: 91 , obj.: 60.740 Vol.: 0.400, ch.: 0.065\n",
      "it.: 92 , obj.: 60.737 Vol.: 0.400, ch.: 0.069\n",
      "it.: 93 , obj.: 60.735 Vol.: 0.400, ch.: 0.031\n",
      "it.: 94 , obj.: 60.733 Vol.: 0.400, ch.: 0.033\n",
      "it.: 95 , obj.: 60.733 Vol.: 0.400, ch.: 0.034\n",
      "it.: 96 , obj.: 60.733 Vol.: 0.400, ch.: 0.037\n",
      "it.: 97 , obj.: 60.729 Vol.: 0.400, ch.: 0.039\n",
      "it.: 98 , obj.: 60.727 Vol.: 0.400, ch.: 0.041\n",
      "it.: 99 , obj.: 60.725 Vol.: 0.400, ch.: 0.042\n",
      "it.: 100 , obj.: 60.726 Vol.: 0.400, ch.: 0.045\n"
     ]
    }
   ],
   "source": [
    "from topoptPlain import *\n",
    "app.run_server(debug=True, port=8050, mode='external')"
   ]
  },
  {
   "cell_type": "code",
   "execution_count": null,
   "metadata": {
    "ExecuteTime": {
     "end_time": "2021-03-24T17:09:05.644735Z",
     "start_time": "2021-03-24T17:09:05.635588Z"
    }
   },
   "outputs": [],
   "source": [
    "app._terminate_server_for_port(\"localhost\", 8050)"
   ]
  },
  {
   "cell_type": "code",
   "execution_count": null,
   "metadata": {},
   "outputs": [],
   "source": []
  }
 ],
 "metadata": {
  "kernelspec": {
   "display_name": "Python 3",
   "language": "python",
   "name": "python3"
  },
  "language_info": {
   "codemirror_mode": {
    "name": "ipython",
    "version": 3
   },
   "file_extension": ".py",
   "mimetype": "text/x-python",
   "name": "python",
   "nbconvert_exporter": "python",
   "pygments_lexer": "ipython3",
   "version": "3.7.3"
  }
 },
 "nbformat": 4,
 "nbformat_minor": 2
}
